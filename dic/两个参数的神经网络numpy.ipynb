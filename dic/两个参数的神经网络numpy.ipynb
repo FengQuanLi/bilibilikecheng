{
 "cells": [
  {
   "cell_type": "markdown",
   "metadata": {},
   "source": [
    "## 用numpy构建两个参数的神经网络"
   ]
  },
  {
   "cell_type": "markdown",
   "metadata": {},
   "source": [
    "$C=a*Z+b*J$\n",
    "\n",
    "可以用矩阵表示为：\n",
    "$$ \\begin{bmatrix}C\\end{bmatrix}=\\begin{bmatrix} a &b \\end{bmatrix} \\begin{bmatrix} Z \\\\ J  \\end{bmatrix}$$ "
   ]
  },
  {
   "cell_type": "code",
   "execution_count": 14,
   "metadata": {},
   "outputs": [],
   "source": [
    "import numpy as np\n",
    "import random\n",
    "数据单元np={}\n",
    "训练集np=[]\n",
    "for i in range(100000):\n",
    "    鸡数=random.randint(0,10000)\n",
    "    兔数=random.randint(0,10000)\n",
    "    总只数=鸡数+兔数\n",
    "    总脚数=2*鸡数+4*兔数\n",
    "    数据单元np['鸡数']=鸡数\n",
    "    数据单元np['兔数']=兔数\n",
    "    \n",
    "    数据单元np['输入数据']=np.array([[总只数,总脚数]]).T\n",
    "    \n",
    "    训练集np.append(数据单元np.copy())\n"
   ]
  },
  {
   "cell_type": "code",
   "execution_count": 15,
   "metadata": {},
   "outputs": [],
   "source": [
    "#构建神经网络\n",
    "class 求鸡的数量np():\n",
    "\n",
    "    def __init__(self):\n",
    "        # 初始化网络参数\n",
    "        self.ab = np.random.rand(1,2)\n",
    "        #self.ab = np.array([[1,2]]).reshape(1,2)\n",
    "    def forward(self,输入):\n",
    "        C=self.ab.dot(输入)\n",
    "        #C=self.a*Z+self.b*J\n",
    "        return C[0,0]\n",
    "# 实例化一个神经网络\n",
    "预测鸡数np=求鸡的数量np()\n",
    "学习率=1"
   ]
  },
  {
   "cell_type": "code",
   "execution_count": 17,
   "metadata": {},
   "outputs": [
    {
     "data": {
      "text/plain": [
       "0.0"
      ]
     },
     "execution_count": 17,
     "metadata": {},
     "output_type": "execute_result"
    }
   ],
   "source": [
    "for i in range(100000):\n",
    "    #取出一组数据\n",
    "    #并归一化\n",
    "    鸡数=训练集np[i]['鸡数']\n",
    "    输入=训练集np[i]['输入数据']/60000\n",
    "    \n",
    "\n",
    "    鸡数_预=预测鸡数np.forward(输入)\n",
    "\n",
    "    #损失函数\n",
    "    loss=(鸡数_预-鸡数)**2\n",
    "    \n",
    "    #损失函数对矩阵ab求导数\n",
    "   \n",
    "    \n",
    "    loss_ab=2*(鸡数_预-鸡数)*输入.T\n",
    "    #print(loss,loss_ab)\n",
    "\n",
    "    #反向传播\n",
    "    预测鸡数np.ab=预测鸡数np.ab-学习率*loss_ab\n",
    "    \n",
    "loss  "
   ]
  },
  {
   "cell_type": "code",
   "execution_count": 18,
   "metadata": {},
   "outputs": [],
   "source": [
    "数据单元np={}\n",
    "验证集np=[]\n",
    "for i in range(1000):\n",
    "    鸡数=random.randint(1,20000)\n",
    "    兔数=random.randint(1,20000)\n",
    "    总只数=鸡数+兔数\n",
    "    总脚数=2*鸡数+4*兔数\n",
    "    数据单元np['鸡数']=鸡数\n",
    "    数据单元np['兔数']=兔数\n",
    "    \n",
    "    数据单元np['输入数据']=np.array([[总只数,总脚数]]).T\n",
    "    \n",
    "    验证集np.append(数据单元np.copy())\n"
   ]
  },
  {
   "cell_type": "code",
   "execution_count": 19,
   "metadata": {
    "scrolled": true
   },
   "outputs": [
    {
     "name": "stdout",
     "output_type": "stream",
     "text": [
      "1000个测试数据正确1000个\n"
     ]
    }
   ],
   "source": [
    "正确数=0\n",
    "for i in range(1000):\n",
    "    #取出一组数据\n",
    "    #并归一化\n",
    "    鸡数=验证集np[i]['鸡数']\n",
    "    \n",
    "    输入=验证集np[i]['输入数据']/60000\n",
    "\n",
    "    鸡数_预=预测鸡数np.forward(输入)\n",
    "    鸡数_预=round(鸡数_预)\n",
    "    #print(鸡数_预,鸡数)\n",
    "    if 鸡数_预==鸡数:\n",
    "        正确数+=1\n",
    "print('1000个测试数据正确{}个'.format(正确数))"
   ]
  },
  {
   "cell_type": "markdown",
   "metadata": {},
   "source": [
    "一、  \n",
    "1、通过举例说明（非严格证明）包含矩阵运算的函数可以找到与之等效的不包含矩阵的函数以下简称等效函数。    \n",
    "2、函数对矩阵中的某一元素求导数即是等效函数对这个参数对应的变量求导。  \n",
    "3、之所以引入矩阵是为了更高效简洁的处理一些复杂的运算。  \n",
    "二、  \n",
    "引入一个重要的科学计算库numpy  来实现矩阵运算  \n",
    "[numpy官方文档](https://numpy.org/doc/1.22/reference/index.html#reference)\n",
    "\n"
   ]
  }
 ],
 "metadata": {
  "kernelspec": {
   "display_name": "Python 3",
   "language": "python",
   "name": "python3"
  },
  "language_info": {
   "codemirror_mode": {
    "name": "ipython",
    "version": 3
   },
   "file_extension": ".py",
   "mimetype": "text/x-python",
   "name": "python",
   "nbconvert_exporter": "python",
   "pygments_lexer": "ipython3",
   "version": "3.8.5"
  }
 },
 "nbformat": 4,
 "nbformat_minor": 4
}
