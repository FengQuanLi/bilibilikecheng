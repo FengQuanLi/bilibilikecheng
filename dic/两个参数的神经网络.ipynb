{
 "cells": [
  {
   "cell_type": "markdown",
   "metadata": {},
   "source": [
    "## 鸡兔同笼问题"
   ]
  },
  {
   "cell_type": "markdown",
   "metadata": {},
   "source": [
    "目的 ： 构建一个包含两个参数的神经网络使之能够从鸡和兔总数Z和总的脚数J求得鸡的数量C。\n"
   ]
  },
  {
   "cell_type": "markdown",
   "metadata": {},
   "source": [
    "$C=a*Z+b*J$"
   ]
  },
  {
   "cell_type": "markdown",
   "metadata": {},
   "source": [
    "生成训练用的数据集"
   ]
  },
  {
   "cell_type": "code",
   "execution_count": 9,
   "metadata": {},
   "outputs": [],
   "source": [
    "import random\n",
    "数据单元={}\n",
    "训练集=[]\n",
    "for i in range(100000):\n",
    "    鸡数=random.randint(0,10000)\n",
    "    兔数=random.randint(0,10000)\n",
    "    总只数=鸡数+兔数\n",
    "    总脚数=2*鸡数+4*兔数\n",
    "    数据单元['鸡数']=鸡数\n",
    "    数据单元['兔数']=兔数\n",
    "    数据单元['总只数']=总只数\n",
    "    数据单元['总脚数']=总脚数\n",
    "    训练集.append(数据单元.copy())\n",
    "\n"
   ]
  },
  {
   "cell_type": "markdown",
   "metadata": {},
   "source": [
    "构建神经网络"
   ]
  },
  {
   "cell_type": "code",
   "execution_count": 34,
   "metadata": {},
   "outputs": [],
   "source": [
    "#构建神经网络\n",
    "class 求鸡的数量():\n",
    "\n",
    "    def __init__(self):\n",
    "        # 初始化网络参数\n",
    "        self.a= random.random()\n",
    "        self.b= random.random()\n",
    "    def forward(self,Z,J):\n",
    "        \n",
    "        C=self.a*Z+self.b*J\n",
    "        return C\n",
    "# 实例化一个神经网络\n",
    "预测鸡数=求鸡的数量()\n",
    "学习率=1"
   ]
  },
  {
   "cell_type": "markdown",
   "metadata": {},
   "source": [
    "训练"
   ]
  },
  {
   "cell_type": "markdown",
   "metadata": {},
   "source": [
    "$loss=(a*Z+b*J-鸡_实)^2$"
   ]
  },
  {
   "cell_type": "code",
   "execution_count": 35,
   "metadata": {
    "scrolled": true
   },
   "outputs": [
    {
     "data": {
      "text/plain": [
       "1.3234889800848443e-23"
      ]
     },
     "execution_count": 35,
     "metadata": {},
     "output_type": "execute_result"
    }
   ],
   "source": [
    "for i in range(100000):\n",
    "    #取出一组数据\n",
    "    #并归一化\n",
    "    鸡数=训练集[i]['鸡数']\n",
    "    Z=训练集[i]['总只数']/60000\n",
    "    J=训练集[i]['总脚数']/60000\n",
    "\n",
    "    鸡数_预=预测鸡数.forward(Z,J)\n",
    "\n",
    "    #损失函数\n",
    "    #print(鸡数_预,鸡数)\n",
    "    loss=(鸡数_预-鸡数)**2\n",
    "    #损失函数对a求导\n",
    "    loss_a=2*Z*(鸡数_预-鸡数)\n",
    "    #损失函数对b求导\n",
    "    loss_b=2*J*(鸡数_预-鸡数) \n",
    "    \n",
    "    #反向传播\n",
    "    预测鸡数.a=预测鸡数.a-学习率*loss_a\n",
    "    预测鸡数.b=预测鸡数.b-学习率*loss_b\n",
    "loss    "
   ]
  },
  {
   "cell_type": "code",
   "execution_count": 26,
   "metadata": {},
   "outputs": [],
   "source": [
    "import random\n",
    "数据单元={}\n",
    "验证集=[]\n",
    "for i in range(1000):\n",
    "    鸡数=random.randint(1,20000)\n",
    "    兔数=random.randint(1,20000)\n",
    "    总只数=鸡数+兔数\n",
    "    总脚数=2*鸡数+4*兔数\n",
    "    数据单元['鸡数']=鸡数\n",
    "    数据单元['兔数']=兔数\n",
    "    数据单元['总只数']=总只数\n",
    "    数据单元['总脚数']=总脚数\n",
    "    验证集.append(数据单元.copy())\n",
    "\n"
   ]
  },
  {
   "cell_type": "code",
   "execution_count": 31,
   "metadata": {
    "scrolled": true
   },
   "outputs": [
    {
     "name": "stdout",
     "output_type": "stream",
     "text": [
      "1000个测试数据正确1000个\n"
     ]
    }
   ],
   "source": [
    "正确数=0\n",
    "for i in range(1000):\n",
    "    #取出一组数据\n",
    "    #并归一化\n",
    "    鸡数=验证集[i]['鸡数']\n",
    "    总只数=验证集[i]['总只数']/60000\n",
    "    总脚数=验证集[i]['总脚数']/60000\n",
    "\n",
    "    鸡数_预=预测鸡数.forward(总只数,总脚数)\n",
    "    鸡数_预=round(鸡数_预)\n",
    "    #print(鸡数_预,鸡数)\n",
    "    if 鸡数_预==鸡数:\n",
    "        正确数+=1\n",
    "print('1000个测试数据正确{}个'.format(正确数))\n",
    "     "
   ]
  },
  {
   "cell_type": "markdown",
   "metadata": {},
   "source": [
    "\n",
    "### 需要注意！\n",
    "归一化：之所以要对输入数据归一化是为了避免导数过大而无法收敛"
   ]
  },
  {
   "cell_type": "code",
   "execution_count": 110,
   "metadata": {},
   "outputs": [
    {
     "data": {
      "text/plain": [
       "[<matplotlib.lines.Line2D at 0x7fcbd1925bb0>]"
      ]
     },
     "execution_count": 110,
     "metadata": {},
     "output_type": "execute_result"
    },
    {
     "data": {
      "image/png": "[encoded data removed]",
      "text/plain": [
       "<Figure size 432x288 with 1 Axes>"
      ]
     },
     "metadata": {
      "needs_background": "light"
     },
     "output_type": "display_data"
    }
   ],
   "source": [
    "import matplotlib.pyplot as plt\n",
    "import numpy as np\n",
    "x = range(100)\n",
    "\n",
    "x = np.linspace(0, 0.1, 100)\n",
    "输入数据=2222\n",
    "y = [(输入数据*val)**2 for val in x]\n",
    "\n",
    "plt.plot(x,y)"
   ]
  },
  {
   "cell_type": "markdown",
   "metadata": {},
   "source": [
    "如图所示输入函数过大时x微小的变化会导致函数值激增"
   ]
  }
 ],
 "metadata": {
  "kernelspec": {
   "display_name": "Python 3",
   "language": "python",
   "name": "python3"
  },
  "language_info": {
   "codemirror_mode": {
    "name": "ipython",
    "version": 3
   },
   "file_extension": ".py",
   "mimetype": "text/x-python",
   "name": "python",
   "nbconvert_exporter": "python",
   "pygments_lexer": "ipython3",
   "version": "3.8.5"
  }
 },
 "nbformat": 4,
 "nbformat_minor": 4
}
